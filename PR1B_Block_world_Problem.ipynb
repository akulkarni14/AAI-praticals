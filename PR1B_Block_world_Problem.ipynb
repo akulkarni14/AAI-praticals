{
  "nbformat": 4,
  "nbformat_minor": 0,
  "metadata": {
    "colab": {
      "provenance": [],
      "authorship_tag": "ABX9TyNOoDDYzaQ6iUVhwGA7Yd4O",
      "include_colab_link": true
    },
    "kernelspec": {
      "name": "python3",
      "display_name": "Python 3"
    },
    "language_info": {
      "name": "python"
    }
  },
  "cells": [
    {
      "cell_type": "markdown",
      "metadata": {
        "id": "view-in-github",
        "colab_type": "text"
      },
      "source": [
        "<a href=\"https://colab.research.google.com/github/akulkarni14/AAI-praticals/blob/main/PR1B_Block_world_Problem.ipynb\" target=\"_parent\"><img src=\"https://colab.research.google.com/assets/colab-badge.svg\" alt=\"Open In Colab\"/></a>"
      ]
    },
    {
      "cell_type": "code",
      "execution_count": 3,
      "metadata": {
        "colab": {
          "base_uri": "https://localhost:8080/",
          "height": 1000
        },
        "id": "U40Pqo1Qn2kD",
        "outputId": "1259b10e-5f34-4756-e3de-69ba3a024b11"
      },
      "outputs": [
        {
          "output_type": "display_data",
          "data": {
            "text/plain": [
              "<Figure size 600x600 with 1 Axes>"
            ],
            "image/png": "[encoded data removed]"
          },
          "metadata": {}
        },
        {
          "output_type": "display_data",
          "data": {
            "text/plain": [
              "<Figure size 600x600 with 1 Axes>"
            ],
            "image/png": "[encoded data removed]"
          },
          "metadata": {}
        },
        {
          "output_type": "stream",
          "name": "stdout",
          "text": [
            "\n",
            "Executing:\n",
            "Executing: PICKUP(C)\n",
            "Executing: PUTDOWN(C)\n",
            "Executing: UNSTACK(B,A)\n",
            "Executing: PUTDOWN(B)\n",
            "Executing: PICKUP(C)\n",
            "Executing: STACK(C,A)\n",
            "Executing: PICKUP(B)\n",
            "Executing: STACK(B,D)\n"
          ]
        }
      ],
      "source": [
        "import matplotlib.pyplot as plt\n",
        "\n",
        "def draw_blocks(state_facts, title, blocks):\n",
        "    stacks = {}\n",
        "    on_relations = {block: None for block in blocks}\n",
        "    clear_blocks = set()\n",
        "\n",
        "    for fact in state_facts:\n",
        "        if fact.startswith(\"On(\"):\n",
        "            top, bottom = fact[3:-1].split(\",\")\n",
        "            on_relations[top.strip()] = bottom.strip()\n",
        "        elif fact.startswith(\"OnTable(\"):\n",
        "            block = fact[8:-1]\n",
        "            stacks[block] = [block]\n",
        "        elif fact.startswith(\"Clear(\"):\n",
        "            clear_blocks.add(fact[6:-1])\n",
        "\n",
        "    # Build stacks\n",
        "    for top, bottom in on_relations.items():\n",
        "        if bottom:\n",
        "            if bottom in stacks:\n",
        "                stacks[bottom].append(top)\n",
        "            else:\n",
        "                stacks[bottom] = [bottom, top]\n",
        "\n",
        "    # Draw using matplotlib\n",
        "    fig, ax = plt.subplots(figsize=(6, 6))\n",
        "    colors = ['skyblue', 'lightgreen', 'lightcoral', 'khaki']\n",
        "    x = 0\n",
        "    for base, stack in stacks.items():\n",
        "        for i, block in enumerate(stack):\n",
        "            ax.add_patch(plt.Rectangle((x, i), 0.9, 0.9, color=colors[blocks.index(block) % len(colors)], ec='black'))\n",
        "            ax.text(x + 0.45, i + 0.45, block, ha='center', va='center', fontsize=14, weight='bold')\n",
        "        x += 1.2\n",
        "\n",
        "    ax.set_xlim(-0.5, x)\n",
        "    ax.set_ylim(0, 5)\n",
        "    ax.set_xticks([])\n",
        "    ax.set_yticks([])\n",
        "    ax.set_title(title)\n",
        "    plt.gca().invert_yaxis()\n",
        "    plt.show()\n",
        "\n",
        "\n",
        "# EXAMPLE STATE DATA\n",
        "blocks = [\"A\", \"B\", \"C\", \"D\"]\n",
        "\n",
        "initial_facts = {\n",
        "    \"On(B,A)\", \"OnTable(A)\", \"OnTable(C)\", \"OnTable(D)\",\n",
        "    \"Clear(B)\", \"Clear(C)\", \"Clear(D)\", \"HandEmpty\"\n",
        "}\n",
        "\n",
        "goal_facts = {\n",
        "    \"On(B,D)\", \"On(C,A)\", \"OnTable(A)\", \"OnTable(D)\"\n",
        "}\n",
        "\n",
        "draw_blocks(initial_facts, \"Initial State\", blocks)\n",
        "draw_blocks(goal_facts, \"Goal State\", blocks)\n",
        "\n",
        "# To show action sequence (optional):\n",
        "action_sequence = [\n",
        "    \"PICKUP(C)\",\n",
        "    \"PUTDOWN(C)\",\n",
        "    \"UNSTACK(B,A)\",\n",
        "    \"PUTDOWN(B)\",\n",
        "    \"PICKUP(C)\",\n",
        "    \"STACK(C,A)\",\n",
        "    \"PICKUP(B)\",\n",
        "    \"STACK(B,D)\"\n",
        "]\n",
        "\n",
        "print(\"\\nExecuting:\")\n",
        "for act in action_sequence:\n",
        "    print(f\"Executing: {act}\")\n"
      ]
    }
  ]
}