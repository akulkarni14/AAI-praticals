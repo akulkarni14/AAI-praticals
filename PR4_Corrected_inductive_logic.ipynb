{
  "nbformat": 4,
  "nbformat_minor": 0,
  "metadata": {
    "colab": {
      "provenance": [],
      "authorship_tag": "ABX9TyOnltiJ0ik7slKxyBjvKf5Y",
      "include_colab_link": true
    },
    "kernelspec": {
      "name": "python3",
      "display_name": "Python 3"
    },
    "language_info": {
      "name": "python"
    }
  },
  "cells": [
    {
      "cell_type": "markdown",
      "metadata": {
        "id": "view-in-github",
        "colab_type": "text"
      },
      "source": [
        "<a href=\"https://colab.research.google.com/github/akulkarni14/AAI-praticals/blob/main/PR4_Corrected_inductive_logic.ipynb\" target=\"_parent\"><img src=\"https://colab.research.google.com/assets/colab-badge.svg\" alt=\"Open In Colab\"/></a>"
      ]
    },
    {
      "cell_type": "code",
      "execution_count": 1,
      "metadata": {
        "colab": {
          "base_uri": "https://localhost:8080/"
        },
        "id": "5vA_6FRwg3oN",
        "outputId": "411e8721-be0f-465a-a9c6-3b6195a7d11d"
      },
      "outputs": [
        {
          "output_type": "stream",
          "name": "stdout",
          "text": [
            "✅ Learned Rule: grandparent(X,Y) :- parent(X,Z), parent(Z,Y).\n",
            "\n",
            "🔍 Positive Examples:\n",
            "grandparent(alice, carol) = True\n",
            "grandparent(alice, eve) = True\n",
            "\n",
            "❌ Negative Examples:\n",
            "grandparent(frank, george) = False\n",
            "grandparent(bob, eve) = False\n"
          ]
        }
      ],
      "source": [
        "# Install dependencies\n",
        "!apt-get install -y swi-prolog > /dev/null\n",
        "!pip install -q pyswip\n",
        "\n",
        "# Python code starts here\n",
        "from pyswip import Prolog\n",
        "\n",
        "# Setup Prolog\n",
        "prolog = Prolog()\n",
        "\n",
        "# Background knowledge (parent relationships)\n",
        "bk = \"\"\"\n",
        "parent(alice, bob).\n",
        "parent(bob, carol).\n",
        "parent(alice, dave).\n",
        "parent(dave, eve).\n",
        "parent(frank, george).\n",
        "\"\"\"\n",
        "\n",
        "# Assert background facts\n",
        "for fact in bk.strip().split(\"\\n\"):\n",
        "    prolog.assertz(fact.strip('.'))\n",
        "\n",
        "# Positive examples for learning\n",
        "pos = [\n",
        "    (\"alice\", \"carol\"),  # alice -> bob -> carol\n",
        "    (\"alice\", \"eve\")     # alice -> dave -> eve\n",
        "]\n",
        "\n",
        "# Negative examples (not true grandparents)\n",
        "neg = [\n",
        "    (\"frank\", \"george\"),  # frank -> george (just parent)\n",
        "    (\"bob\", \"eve\")\n",
        "]\n",
        "\n",
        "# Hypothesis format: grandparent(X,Y) :- parent(X,Z), parent(Z,Y).\n",
        "prolog.assertz(\"grandparent(X,Y) :- parent(X,Z), parent(Z,Y)\")\n",
        "\n",
        "# Test learned rule\n",
        "print(\"✅ Learned Rule: grandparent(X,Y) :- parent(X,Z), parent(Z,Y).\")\n",
        "print(\"\\n🔍 Positive Examples:\")\n",
        "for x, y in pos:\n",
        "    result = list(prolog.query(f\"grandparent({x}, {y})\"))\n",
        "    print(f\"grandparent({x}, {y}) = {bool(result)}\")\n",
        "\n",
        "print(\"\\n❌ Negative Examples:\")\n",
        "for x, y in neg:\n",
        "    result = list(prolog.query(f\"grandparent({x}, {y})\"))\n",
        "    print(f\"grandparent({x}, {y}) = {bool(result)}\")\n"
      ]
    }
  ]
}