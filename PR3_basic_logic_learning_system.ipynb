{
  "nbformat": 4,
  "nbformat_minor": 0,
  "metadata": {
    "colab": {
      "provenance": [],
      "authorship_tag": "ABX9TyMZ5wg+zS+yVx2D+CAg+k7s",
      "include_colab_link": true
    },
    "kernelspec": {
      "name": "python3",
      "display_name": "Python 3"
    },
    "language_info": {
      "name": "python"
    }
  },
  "cells": [
    {
      "cell_type": "markdown",
      "metadata": {
        "id": "view-in-github",
        "colab_type": "text"
      },
      "source": [
        "<a href=\"https://colab.research.google.com/github/akulkarni14/AAI-praticals/blob/main/PR3_basic_logic_learning_system.ipynb\" target=\"_parent\"><img src=\"https://colab.research.google.com/assets/colab-badge.svg\" alt=\"Open In Colab\"/></a>"
      ]
    },
    {
      "cell_type": "code",
      "execution_count": 1,
      "metadata": {
        "colab": {
          "base_uri": "https://localhost:8080/"
        },
        "id": "y4Y5i6Xb59QS",
        "outputId": "19f04b69-ac7c-41c0-ffce-f04f4b5b59eb"
      },
      "outputs": [
        {
          "output_type": "stream",
          "name": "stdout",
          "text": [
            "Inferred Knowledge: {C, A, B}\n"
          ]
        }
      ],
      "source": [
        "from sympy import symbols, Implies\n",
        "\n",
        "class LogicLearningSystem:\n",
        "    def __init__(self):\n",
        "        self.rules = []\n",
        "        self.examples = []\n",
        "\n",
        "    def add_rule(self, rule):\n",
        "        \"\"\"Adds a logical rule to the system.\"\"\"\n",
        "        self.rules.append(rule)\n",
        "\n",
        "    def add_example(self, example):\n",
        "        \"\"\"Adds an example to the system.\"\"\"\n",
        "        self.examples.append(example)\n",
        "\n",
        "    def infer(self):\n",
        "        \"\"\"Attempts to infer new knowledge from rules and examples.\"\"\"\n",
        "        inferred_knowledge = set(self.examples)  # Start with known examples\n",
        "        new_inference = True  # Flag to check if any new knowledge is inferred\n",
        "\n",
        "        while new_inference:  # Repeat until no new inference\n",
        "            new_inference = False\n",
        "            for rule in self.rules:\n",
        "                premise, conclusion = rule.args\n",
        "                if premise in inferred_knowledge and conclusion not in inferred_knowledge:\n",
        "                    inferred_knowledge.add(conclusion)\n",
        "                    new_inference = True  # New inference found, check again\n",
        "\n",
        "        return inferred_knowledge\n",
        "\n",
        "# Define symbols\n",
        "A, B, C = symbols('A B C')\n",
        "\n",
        "# Initialize the logic learning system\n",
        "system = LogicLearningSystem()\n",
        "\n",
        "# Add rules\n",
        "system.add_rule(Implies(A, B))  # If A is true, then B is true\n",
        "system.add_rule(Implies(B, C))  # If B is true, then C is true\n",
        "\n",
        "# Add examples\n",
        "system.add_example(A)  # Given that A is true\n",
        "\n",
        "# Infer new knowledge\n",
        "inferred = system.infer()\n",
        "print(\"Inferred Knowledge:\", inferred)\n"
      ]
    }
  ]
}