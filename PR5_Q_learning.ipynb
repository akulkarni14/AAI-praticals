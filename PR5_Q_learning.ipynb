{
  "nbformat": 4,
  "nbformat_minor": 0,
  "metadata": {
    "colab": {
      "provenance": [],
      "authorship_tag": "ABX9TyMICeKXu5DDJhQ5i8BikX1u",
      "include_colab_link": true
    },
    "kernelspec": {
      "name": "python3",
      "display_name": "Python 3"
    },
    "language_info": {
      "name": "python"
    }
  },
  "cells": [
    {
      "cell_type": "markdown",
      "metadata": {
        "id": "view-in-github",
        "colab_type": "text"
      },
      "source": [
        "<a href=\"https://colab.research.google.com/github/akulkarni14/AAI-praticals/blob/main/PR5_Q_learning.ipynb\" target=\"_parent\"><img src=\"https://colab.research.google.com/assets/colab-badge.svg\" alt=\"Open In Colab\"/></a>"
      ]
    },
    {
      "cell_type": "code",
      "execution_count": 4,
      "metadata": {
        "colab": {
          "base_uri": "https://localhost:8080/",
          "height": 1000
        },
        "id": "A-QmM6bdjxIu",
        "outputId": "f59e2877-5a45-4439-c3c7-6456ef30463d"
      },
      "outputs": [
        {
          "output_type": "stream",
          "name": "stdout",
          "text": [
            "\n",
            "Learned Policy Grid:\n",
            "R R D D D\n",
            "R R R R D\n",
            "D X X R D\n",
            "D D R D D\n",
            "R R R R G\n"
          ]
        },
        {
          "output_type": "display_data",
          "data": {
            "text/plain": [
              "<Figure size 600x600 with 1 Axes>"
            ],
            "image/png": "[encoded data removed]"
          },
          "metadata": {}
        },
        {
          "output_type": "display_data",
          "data": {
            "text/plain": [
              "<Figure size 600x600 with 1 Axes>"
            ],
            "image/png": "[encoded data removed]"
          },
          "metadata": {}
        },
        {
          "output_type": "stream",
          "name": "stdout",
          "text": [
            "Shortest path: [(0, 0), (0, 1), (0, 2), (1, 2), (1, 3), (1, 4), (2, 4), (3, 4), (4, 4)]\n"
          ]
        }
      ],
      "source": [
        "import numpy as np\n",
        "import random\n",
        "import matplotlib.pyplot as plt\n",
        "from matplotlib.patches import Patch\n",
        "\n",
        "# ------------------------ Configuration ------------------------\n",
        "grid_size = 5\n",
        "start = (0, 0)\n",
        "goal = (4, 4)\n",
        "obstacles = [(2, 1), (2, 2)]\n",
        "\n",
        "actions = ['U', 'D', 'L', 'R']\n",
        "action_mapping = {\n",
        "    'U': (-1, 0),\n",
        "    'D': (1, 0),\n",
        "    'L': (0, -1),\n",
        "    'R': (0, 1)\n",
        "}\n",
        "\n",
        "# ------------------------ Helpers ------------------------\n",
        "def is_valid(state):\n",
        "    x, y = state\n",
        "    return 0 <= x < grid_size and 0 <= y < grid_size and state not in obstacles\n",
        "\n",
        "# ------------------------ Q-Learning ------------------------\n",
        "q_table = np.zeros((grid_size, grid_size, len(actions)))\n",
        "alpha = 0.1\n",
        "gamma = 0.9\n",
        "epsilon = 0.1\n",
        "episodes = 500\n",
        "\n",
        "for _ in range(episodes):\n",
        "    state = start\n",
        "    while state != goal:\n",
        "        x, y = state\n",
        "        if random.random() < epsilon:\n",
        "            action_index = random.randint(0, len(actions) - 1)\n",
        "        else:\n",
        "            action_index = np.argmax(q_table[x, y])\n",
        "\n",
        "        action = actions[action_index]\n",
        "        dx, dy = action_mapping[action]\n",
        "        new_state = (x + dx, y + dy)\n",
        "        if not is_valid(new_state):\n",
        "            new_state = state\n",
        "\n",
        "        reward = 1 if new_state == goal else -0.1\n",
        "        nx, ny = new_state\n",
        "        q_table[x, y, action_index] += alpha * (\n",
        "            reward + gamma * np.max(q_table[nx, ny]) - q_table[x, y, action_index]\n",
        "        )\n",
        "        state = new_state\n",
        "\n",
        "# ------------------------ Policy Grid ------------------------\n",
        "policy_grid = [['' for _ in range(grid_size)] for _ in range(grid_size)]\n",
        "for i in range(grid_size):\n",
        "    for j in range(grid_size):\n",
        "        if (i, j) == goal:\n",
        "            policy_grid[i][j] = 'G'\n",
        "        elif (i, j) in obstacles:\n",
        "            policy_grid[i][j] = 'X'\n",
        "        else:\n",
        "            best_action = np.argmax(q_table[i, j])\n",
        "            policy_grid[i][j] = actions[best_action]\n",
        "\n",
        "# ------------------------ Print Policy Grid ------------------------\n",
        "print(\"\\nLearned Policy Grid:\")\n",
        "for row in policy_grid:\n",
        "    print(' '.join(row))\n",
        "\n",
        "# ------------------------ Plot Policy Grid ------------------------\n",
        "plt.figure(figsize=(6, 6))\n",
        "for i in range(grid_size):\n",
        "    for j in range(grid_size):\n",
        "        char = policy_grid[i][j]\n",
        "        if char == 'G':\n",
        "            plt.gca().add_patch(plt.Rectangle((j, grid_size - i - 1), 1, 1, color='green', alpha=0.4))\n",
        "            plt.text(j + 0.5, grid_size - i - 0.5, 'G', ha='center', va='center', fontsize=12)\n",
        "        elif char == 'X':\n",
        "            plt.gca().add_patch(plt.Rectangle((j, grid_size - i - 1), 1, 1, color='red', alpha=0.5))\n",
        "        else:\n",
        "            plt.text(j + 0.5, grid_size - i - 0.5, char, ha='center', va='center', fontsize=12)\n",
        "\n",
        "plt.xticks(np.arange(0, grid_size, 1))\n",
        "plt.yticks(np.arange(0, grid_size, 1))\n",
        "plt.grid(True)\n",
        "plt.gca().set_xticklabels([])\n",
        "plt.gca().set_yticklabels([])\n",
        "plt.title(\"Q-Learning Policy\")\n",
        "plt.show()\n",
        "\n",
        "# ------------------------ Trace and Plot Shortest Path ------------------------\n",
        "path = [start]\n",
        "state = start\n",
        "while state != goal:\n",
        "    x, y = state\n",
        "    best_a = np.argmax(q_table[x, y])\n",
        "    dx, dy = action_mapping[actions[best_a]]\n",
        "    next_state = (x + dx, y + dy)\n",
        "    if not is_valid(next_state) or next_state in path:\n",
        "        break  # avoid loops\n",
        "    path.append(next_state)\n",
        "    state = next_state\n",
        "\n",
        "fig, ax = plt.subplots(figsize=(6, 6))\n",
        "ax.set_title(\"Grid Navigation Path\")\n",
        "\n",
        "# Draw grid\n",
        "for i in range(grid_size + 1):\n",
        "    ax.plot([0, grid_size], [i, i], color='black')\n",
        "    ax.plot([i, i], [0, grid_size], color='black')\n",
        "\n",
        "# Draw obstacles\n",
        "for ox, oy in obstacles:\n",
        "    rect = plt.Rectangle((oy, grid_size - ox - 1), 1, 1, color='red', alpha=0.5)\n",
        "    ax.add_patch(rect)\n",
        "\n",
        "# Draw goal\n",
        "gx, gy = goal\n",
        "rect = plt.Rectangle((gy, grid_size - gx - 1), 1, 1, color='green', alpha=0.4)\n",
        "ax.add_patch(rect)\n",
        "\n",
        "# Draw path arrows\n",
        "for (x1, y1), (x2, y2) in zip(path, path[1:]):\n",
        "    ax.annotate(\n",
        "        '',\n",
        "        xy=(y2 + 0.5, grid_size - x2 - 0.5),\n",
        "        xytext=(y1 + 0.5, grid_size - x1 - 0.5),\n",
        "        arrowprops=dict(arrowstyle='->', color='blue', lw=2)\n",
        "    )\n",
        "\n",
        "# Legend\n",
        "legend_elements = [\n",
        "    Patch(facecolor='green', edgecolor='black', label='Goal'),\n",
        "    Patch(facecolor='red', edgecolor='black', label='Obstacle'),\n",
        "    Patch(facecolor='blue', edgecolor='blue', label='Path')\n",
        "]\n",
        "ax.legend(handles=legend_elements, loc='upper left')\n",
        "\n",
        "ax.set_xlim(0, grid_size)\n",
        "ax.set_ylim(0, grid_size)\n",
        "ax.set_xticks([])\n",
        "ax.set_yticks([])\n",
        "plt.show()\n",
        "\n",
        "# ------------------------ Print Path ------------------------\n",
        "print(\"Shortest path:\", path)\n"
      ]
    }
  ]
}