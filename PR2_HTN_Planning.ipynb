{
  "nbformat": 4,
  "nbformat_minor": 0,
  "metadata": {
    "colab": {
      "provenance": [],
      "authorship_tag": "ABX9TyOjyZdJpnkefwQwp8M3Ejoh",
      "include_colab_link": true
    },
    "kernelspec": {
      "name": "python3",
      "display_name": "Python 3"
    },
    "language_info": {
      "name": "python"
    }
  },
  "cells": [
    {
      "cell_type": "markdown",
      "metadata": {
        "id": "view-in-github",
        "colab_type": "text"
      },
      "source": [
        "<a href=\"https://colab.research.google.com/github/akulkarni14/AAI-praticals/blob/main/PR2_HTN_Planning.ipynb\" target=\"_parent\"><img src=\"https://colab.research.google.com/assets/colab-badge.svg\" alt=\"Open In Colab\"/></a>"
      ]
    },
    {
      "cell_type": "code",
      "execution_count": 4,
      "metadata": {
        "colab": {
          "base_uri": "https://localhost:8080/"
        },
        "id": "gV8Lw6-V3r8Q",
        "outputId": "4d68079c-126f-40c0-9c49-25f0623d5672"
      },
      "outputs": [
        {
          "output_type": "stream",
          "name": "stdout",
          "text": [
            "Starting planning...\n",
            "\n",
            "Decomposing task: Clean the Room\n",
            "Decomposing task: Collect Trash\n",
            "Executing leaf task: Navigate to Trash\n",
            "Executing: Robot moves to trash location.\n",
            "Executing leaf task: Pick Up Trash\n",
            "Executing: Robot picks up trash and disposes of it.\n",
            "Decomposing task: Sweep Floor\n",
            "Executing leaf task: Navigate to Floor\n",
            "Executing: Robot moves to floor area.\n",
            "Executing leaf task: Sweep\n",
            "Executing: Robot sweeps the floor.\n",
            "Decomposing task: Mop Floor\n",
            "Executing leaf task: Navigate to Floor\n",
            "Executing: Robot moves to floor area.\n",
            "Executing leaf task: Mop\n",
            "Executing: Robot mops the floor with water and detergent.\n"
          ]
        }
      ],
      "source": [
        "class Action:\n",
        "    def __init__(self, name, description):\n",
        "        self.name = name\n",
        "        self.description = description\n",
        "\n",
        "    def execute(self):\n",
        "        print(f\"Executing: {self.description}\")\n",
        "\n",
        "class Task:\n",
        "    def __init__(self, name, sub_tasks=None, action=None):\n",
        "        self.name = name\n",
        "        self.sub_tasks = sub_tasks if sub_tasks else []\n",
        "        self.action = action\n",
        "\n",
        "    def is_leaf(self):\n",
        "        return len(self.sub_tasks) == 0\n",
        "\n",
        "class HTNPlanner:\n",
        "    def __init__(self):\n",
        "        self.tasks = []\n",
        "\n",
        "    def add_task(self, task):\n",
        "        self.tasks.append(task)\n",
        "\n",
        "    def plan(self):\n",
        "        print(\"Starting planning...\\n\")\n",
        "        for task in self.tasks:\n",
        "            self._decompose_and_execute(task)\n",
        "\n",
        "    def _decompose_and_execute(self, task):\n",
        "        if task.is_leaf():\n",
        "            print(f\"Executing leaf task: {task.name}\")\n",
        "            if task.action:\n",
        "                task.action.execute()\n",
        "        else:\n",
        "            print(f\"Decomposing task: {task.name}\")\n",
        "            for sub_task in task.sub_tasks:\n",
        "                self._decompose_and_execute(sub_task)\n",
        "\n",
        "# Define primitive actions\n",
        "navigate_to_trash = Action(\"Navigate to trash\", \"Robot moves to trash location.\")\n",
        "pick_up_trash = Action(\"Pick up trash\", \"Robot picks up trash and disposes of it.\")\n",
        "\n",
        "navigate_to_floor = Action(\"Navigate to floor\", \"Robot moves to floor area.\")\n",
        "sweep_floor = Action(\"Sweep floor\", \"Robot sweeps the floor.\")\n",
        "mop_floor = Action(\"Mop floor\", \"Robot mops the floor with water and detergent.\")\n",
        "\n",
        "# Define compound tasks\n",
        "collect_trash = Task(\"Collect Trash\", [\n",
        "    Task(\"Navigate to Trash\", action=navigate_to_trash),\n",
        "    Task(\"Pick Up Trash\", action=pick_up_trash)\n",
        "])\n",
        "\n",
        "sweep_task = Task(\"Sweep Floor\", [\n",
        "    Task(\"Navigate to Floor\", action=navigate_to_floor),\n",
        "    Task(\"Sweep\", action=sweep_floor)\n",
        "])\n",
        "\n",
        "mop_task = Task(\"Mop Floor\", [\n",
        "    Task(\"Navigate to Floor\", action=navigate_to_floor),\n",
        "    Task(\"Mop\", action=mop_floor)\n",
        "])\n",
        "\n",
        "# High-level task: Clean Room\n",
        "clean_room = Task(\"Clean the Room\", [\n",
        "    collect_trash,\n",
        "    sweep_task,\n",
        "    mop_task\n",
        "])\n",
        "\n",
        "# Run the planner\n",
        "planner = HTNPlanner()\n",
        "planner.add_task(clean_room)\n",
        "planner.plan()\n"
      ]
    }
  ]
}