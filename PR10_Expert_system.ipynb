{
  "nbformat": 4,
  "nbformat_minor": 0,
  "metadata": {
    "colab": {
      "provenance": [],
      "authorship_tag": "ABX9TyMi3PzkvOwDusD56BKpMUO0",
      "include_colab_link": true
    },
    "kernelspec": {
      "name": "python3",
      "display_name": "Python 3"
    },
    "language_info": {
      "name": "python"
    }
  },
  "cells": [
    {
      "cell_type": "markdown",
      "metadata": {
        "id": "view-in-github",
        "colab_type": "text"
      },
      "source": [
        "<a href=\"https://colab.research.google.com/github/akulkarni14/AAI-praticals/blob/main/PR10_Expert_system.ipynb\" target=\"_parent\"><img src=\"https://colab.research.google.com/assets/colab-badge.svg\" alt=\"Open In Colab\"/></a>"
      ]
    },
    {
      "cell_type": "code",
      "execution_count": 1,
      "metadata": {
        "colab": {
          "base_uri": "https://localhost:8080/"
        },
        "id": "w6BPo7XhfnJt",
        "outputId": "08e2cdd3-c4d3-4b07-b762-a54071125f05"
      },
      "outputs": [
        {
          "output_type": "stream",
          "name": "stdout",
          "text": [
            "Welcome to the Medical Diagnosis Expert System!\n",
            "List of possible symptoms:\n",
            "runny nose, loss of taste or smell, mild fever, fever, sweating, sneezing, rash, nausea, fatigue, itchy eyes, headache, sore throat, shortness of breath, muscle pain, cough, body ache, joint pain, chills\n",
            "\n",
            "Enter the symptoms you are experiencing (comma-separated):\n",
            "cough,fatigue\n",
            "\n",
            "Possible Diagnosis (sorted by confidence):\n",
            "- Flu: 40.0% match\n",
            "- COVID-19: 40.0% match\n",
            "- Common Cold: 20.0% match\n"
          ]
        }
      ],
      "source": [
        "# Expert System: Medical Diagnosis (Symptom-Based)\n",
        "\n",
        "# List of diseases and their symptoms\n",
        "disease_symptoms = {\n",
        "    \"Common Cold\": [\"cough\", \"sore throat\", \"runny nose\", \"sneezing\", \"mild fever\"],\n",
        "    \"Flu\": [\"fever\", \"cough\", \"sore throat\", \"body ache\", \"fatigue\"],\n",
        "    \"Allergy\": [\"sneezing\", \"runny nose\", \"itchy eyes\", \"rash\"],\n",
        "    \"COVID-19\": [\"fever\", \"cough\", \"shortness of breath\", \"fatigue\", \"loss of taste or smell\"],\n",
        "    \"Malaria\": [\"fever\", \"chills\", \"sweating\", \"headache\", \"nausea\"],\n",
        "    \"Dengue\": [\"fever\", \"rash\", \"muscle pain\", \"joint pain\", \"nausea\"],\n",
        "}\n",
        "\n",
        "# Input: Get symptoms from the user\n",
        "print(\"Welcome to the Medical Diagnosis Expert System!\")\n",
        "print(\"List of possible symptoms:\")\n",
        "all_symptoms = set(symptom for symptoms in disease_symptoms.values() for symptom in symptoms)\n",
        "print(\", \".join(all_symptoms))\n",
        "\n",
        "user_input = input(\"\\nEnter the symptoms you are experiencing (comma-separated):\\n\").lower()\n",
        "user_symptoms = [sym.strip() for sym in user_input.split(',')]\n",
        "\n",
        "# Rule-based Matching\n",
        "disease_match_score = {}\n",
        "\n",
        "for disease, symptoms in disease_symptoms.items():\n",
        "    match_count = len(set(user_symptoms).intersection(set(symptoms)))\n",
        "    disease_match_score[disease] = match_count / len(symptoms)  # % match\n",
        "\n",
        "# Sorting diseases by match score\n",
        "sorted_diseases = sorted(disease_match_score.items(), key=lambda x: x[1], reverse=True)\n",
        "\n",
        "# Output: Predicted disease(s)\n",
        "print(\"\\nPossible Diagnosis (sorted by confidence):\")\n",
        "for disease, score in sorted_diseases:\n",
        "    if score > 0:  # Only show diseases with at least 1 matching symptom\n",
        "        print(f\"- {disease}: {round(score*100, 2)}% match\")\n",
        "\n",
        "if all(score == 0 for _, score in sorted_diseases):\n",
        "    print(\"Sorry, no matching disease found. Please consult a doctor.\")\n",
        "\n",
        "\n"
      ]
    }
  ]
}