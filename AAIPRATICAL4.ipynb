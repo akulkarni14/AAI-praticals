{
  "nbformat": 4,
  "nbformat_minor": 0,
  "metadata": {
    "colab": {
      "provenance": [],
      "authorship_tag": "ABX9TyMwsICZ0Jy4wxyAFCMUEiNu",
      "include_colab_link": true
    },
    "kernelspec": {
      "name": "python3",
      "display_name": "Python 3"
    },
    "language_info": {
      "name": "python"
    }
  },
  "cells": [
    {
      "cell_type": "markdown",
      "metadata": {
        "id": "view-in-github",
        "colab_type": "text"
      },
      "source": [
        "<a href=\"https://colab.research.google.com/github/akulkarni14/AAI-praticals/blob/main/AAIPRATICAL4.ipynb\" target=\"_parent\"><img src=\"https://colab.research.google.com/assets/colab-badge.svg\" alt=\"Open In Colab\"/></a>"
      ]
    },
    {
      "cell_type": "code",
      "execution_count": null,
      "metadata": {
        "colab": {
          "base_uri": "https://localhost:8080/"
        },
        "id": "C5mtrQIOQQ4C",
        "outputId": "2d2e2766-2554-4f7c-d9a9-e59305c2944d"
      },
      "outputs": [
        {
          "output_type": "stream",
          "name": "stdout",
          "text": [
            "|--- Is_Direct_Relative <= 0.50\n",
            "|   |--- class: 0\n",
            "|--- Is_Direct_Relative >  0.50\n",
            "|   |--- class: 1\n",
            "\n",
            "Test Case 1: [28  1] -> Parent\n",
            "Test Case 2: [10  1] -> Parent\n",
            "Test Case 3: [45  1] -> Parent\n",
            "Test Case 4: [18  0] -> Not a Parent\n"
          ]
        },
        {
          "output_type": "stream",
          "name": "stderr",
          "text": [
            "/usr/local/lib/python3.11/dist-packages/sklearn/utils/validation.py:2739: UserWarning: X does not have valid feature names, but DecisionTreeClassifier was fitted with feature names\n",
            "  warnings.warn(\n"
          ]
        }
      ],
      "source": [
        "import numpy as np\n",
        "import pandas as pd\n",
        "from sklearn.tree import DecisionTreeClassifier, export_text\n",
        "\n",
        "# Sample Dataset\n",
        "data = {\n",
        "    \"Age_Difference\": [25, 30, 18, 15, 40, 35, 12, 50],\n",
        "    \"Is_Direct_Relative\": [1, 1, 1, 0, 1, 1, 0, 1],  # 1 = Yes, 0 = No\n",
        "    \"Parent\": [1, 1, 1, 0, 1, 1, 0, 1]  # 1 = Parent, 0 = Not a Parent\n",
        "}\n",
        "\n",
        "# Convert to DataFrame\n",
        "df = pd.DataFrame(data)\n",
        "\n",
        "# Features and Labels\n",
        "X = df[[\"Age_Difference\", \"Is_Direct_Relative\"]]\n",
        "y = df[\"Parent\"]\n",
        "\n",
        "# Train Decision Tree Model\n",
        "model = DecisionTreeClassifier(criterion=\"entropy\")\n",
        "model.fit(X, y)\n",
        "\n",
        "# Display Decision Tree Rules\n",
        "tree_rules = export_text(model, feature_names=[\"Age_Difference\", \"Is_Direct_Relative\"])\n",
        "print(tree_rules)\n",
        "\n",
        "# Test the Model\n",
        "test_data = np.array([[28, 1], [10, 1], [45, 1], [18, 0]])  # Test Cases\n",
        "predictions = model.predict(test_data)\n",
        "\n",
        "for i, pred in enumerate(predictions):\n",
        "    relation = \"Parent\" if pred == 1 else \"Not a Parent\"\n",
        "    print(f\"Test Case {i+1}: {test_data[i]} -> {relation}\")\n"
      ]
    }
  ]
}