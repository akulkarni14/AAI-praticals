{
  "nbformat": 4,
  "nbformat_minor": 0,
  "metadata": {
    "colab": {
      "provenance": [],
      "authorship_tag": "ABX9TyOtWjxnqZTrLV2SczOuT1a2",
      "include_colab_link": true
    },
    "kernelspec": {
      "name": "python3",
      "display_name": "Python 3"
    },
    "language_info": {
      "name": "python"
    }
  },
  "cells": [
    {
      "cell_type": "markdown",
      "metadata": {
        "id": "view-in-github",
        "colab_type": "text"
      },
      "source": [
        "<a href=\"https://colab.research.google.com/github/akulkarni14/AAI-praticals/blob/main/PR7_Robotic_Movement_path_.ipynb\" target=\"_parent\"><img src=\"https://colab.research.google.com/assets/colab-badge.svg\" alt=\"Open In Colab\"/></a>"
      ]
    },
    {
      "cell_type": "code",
      "execution_count": 1,
      "metadata": {
        "colab": {
          "base_uri": "https://localhost:8080/",
          "height": 489
        },
        "id": "MX1CzMK9wW3n",
        "outputId": "53d596d5-1639-4de6-a4d0-216f63d52c09"
      },
      "outputs": [
        {
          "output_type": "stream",
          "name": "stdout",
          "text": [
            "Robot stopped at position (2, 3) facing W.\n"
          ]
        },
        {
          "output_type": "display_data",
          "data": {
            "text/plain": [
              "<Figure size 640x480 with 1 Axes>"
            ],
            "image/png": "[encoded data removed]"
          },
          "metadata": {}
        }
      ],
      "source": [
        "import matplotlib.pyplot as plt\n",
        "import time\n",
        "\n",
        "class SimpleRobot:\n",
        "    def __init__(self):\n",
        "        self.x = 0\n",
        "        self.y = 0\n",
        "        self.direction = 'N'  # N, E, S, W\n",
        "        self.path = [(self.x, self.y)]\n",
        "\n",
        "    def move_forward(self):\n",
        "        if self.direction == 'N':\n",
        "            self.y += 1\n",
        "        elif self.direction == 'E':\n",
        "            self.x += 1\n",
        "        elif self.direction == 'S':\n",
        "            self.y -= 1\n",
        "        elif self.direction == 'W':\n",
        "            self.x -= 1\n",
        "        self.path.append((self.x, self.y))\n",
        "\n",
        "    def move_backward(self):\n",
        "        if self.direction == 'N':\n",
        "            self.y -= 1\n",
        "        elif self.direction == 'E':\n",
        "            self.x -= 1\n",
        "        elif self.direction == 'S':\n",
        "            self.y += 1\n",
        "        elif self.direction == 'W':\n",
        "            self.x += 1\n",
        "        self.path.append((self.x, self.y))\n",
        "\n",
        "    def turn_left(self):\n",
        "        directions = ['N', 'W', 'S', 'E']\n",
        "        idx = directions.index(self.direction)\n",
        "        self.direction = directions[(idx + 1) % 4]\n",
        "\n",
        "    def turn_right(self):\n",
        "        directions = ['N', 'E', 'S', 'W']\n",
        "        idx = directions.index(self.direction)\n",
        "        self.direction = directions[(idx + 1) % 4]\n",
        "\n",
        "    def stop(self):\n",
        "        print(f\"Robot stopped at position ({self.x}, {self.y}) facing {self.direction}.\")\n",
        "\n",
        "    def show_path(self):\n",
        "        xs, ys = zip(*self.path)\n",
        "        plt.plot(xs, ys, marker='o')\n",
        "        plt.title(\"Robot Movement Path\")\n",
        "        plt.xlabel(\"X\")\n",
        "        plt.ylabel(\"Y\")\n",
        "        plt.grid(True)\n",
        "        plt.axis('equal')\n",
        "        plt.show()\n",
        "\n",
        "# Initialize robot\n",
        "robot = SimpleRobot()\n",
        "\n",
        "# Simulate movement\n",
        "robot.move_forward()\n",
        "robot.move_forward()\n",
        "robot.turn_right()\n",
        "robot.move_forward()\n",
        "robot.turn_left()\n",
        "robot.move_forward()\n",
        "robot.turn_left()\n",
        "robot.move_backward()\n",
        "robot.stop()\n",
        "\n",
        "# Show movement path\n",
        "robot.show_path()\n"
      ]
    }
  ]
}